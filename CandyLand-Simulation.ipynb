{
 "cells": [
  {
   "cell_type": "code",
   "execution_count": 17,
   "metadata": {},
   "outputs": [],
   "source": [
    "import random\n",
    "\n",
    "%matplotlib inline\n",
    "import matplotlib.pyplot as plt\n",
    "plt.style.use('ggplot')"
   ]
  },
  {
   "cell_type": "code",
   "execution_count": 18,
   "metadata": {},
   "outputs": [],
   "source": [
    "#assign colors\n",
    "def getColor(count):\n",
    "    if count % 6 == 1:\n",
    "        color = \"red\"\n",
    "    elif count % 6 == 2:\n",
    "        color = \"purple\"\n",
    "    elif count % 6 == 3:\n",
    "        color = \"yellow\"\n",
    "    elif count % 6 == 4:\n",
    "        color = \"blue\"\n",
    "    elif count % 6 == 5:\n",
    "        color = \"orange\"\n",
    "    else:\n",
    "         color = \"green\"\n",
    "\n",
    "    return color"
   ]
  },
  {
   "cell_type": "code",
   "execution_count": 19,
   "metadata": {},
   "outputs": [],
   "source": [
    "#assign colors, special places\n",
    "def makeBoard():\n",
    "\n",
    "    spaces = []\n",
    "\n",
    "    count = 0\n",
    "    for index in range(1, 141):\n",
    "        if index == (9 or 18 or 43 or 75 or 96 or 104):\n",
    "            spaces.append((index, \"special\"))\n",
    "        else:\n",
    "            count += 1\n",
    "            color = getColor(count)\n",
    "            spaces.append((index, color))\n",
    "\n",
    "    return spaces"
   ]
  },
  {
   "cell_type": "code",
   "execution_count": 20,
   "metadata": {},
   "outputs": [],
   "source": [
    "#simulate candyland distribution of cards\n",
    "def getMove():\n",
    "\n",
    "    chance = random.randint(0,66)\n",
    "\n",
    "    #double move cards\n",
    "    if chance < 2:\n",
    "        move = (\"red\", 2)\n",
    "    elif chance < 4 and chance >= 2:\n",
    "        move = (\"purple\", 2)\n",
    "    elif chance < 6 and chance >= 4:\n",
    "        move = (\"yellow\", 2)\n",
    "    elif chance < 8 and chance >= 6:\n",
    "        move = (\"blue\", 2)\n",
    "    elif chance < 10 and chance >= 8:\n",
    "        move = (\"orange\", 2)\n",
    "    elif chance < 12 and chance >= 10:\n",
    "        move = (\"green\", 2)\n",
    "    #single move cards\n",
    "    elif chance < 20 and chance >= 12:\n",
    "        move = (\"red\", 1)\n",
    "    elif chance < 28 and chance >= 20:\n",
    "        move = (\"purple\", 1)\n",
    "    elif chance < 36 and chance >= 28:\n",
    "        move = (\"yellow\", 1)\n",
    "    elif chance < 44 and chance >= 36:\n",
    "        move = (\"blue\", 1)\n",
    "    elif chance < 52 and chance >= 44:\n",
    "        move = (\"orange\", 1)\n",
    "    elif chance < 60 and chance >= 52:\n",
    "        move = (\"green\", 1)\n",
    "    #special cards\n",
    "    else:\n",
    "        if chance == 60:\n",
    "            move = (\"Lord Licorice\", 1)\n",
    "        elif chance == 61:\n",
    "            move = (\"Candy Cane\", 1)\n",
    "        elif chance == 62:\n",
    "            move = (\"Gumdrop Mountain\", 1)\n",
    "        elif chance == 63:\n",
    "            move = (\"Grandma Nut\", 1)\n",
    "        elif chance == 64:\n",
    "            move = (\"Princess Lolly\", 1)\n",
    "        else:\n",
    "            move = (\"Queen Frostine\", 1)\n",
    "\n",
    "    return move"
   ]
  },
  {
   "cell_type": "code",
   "execution_count": 21,
   "metadata": {},
   "outputs": [],
   "source": [
    "def playGame():\n",
    "\n",
    "    board = makeBoard()\n",
    "    current = 0\n",
    "    moveList = []\n",
    "\n",
    "    #play until pass end point\n",
    "    while current < 134:\n",
    "\n",
    "        (move, number) = getMove()\n",
    "\n",
    "        #factor in cards that advance two spaces\n",
    "        if number == 2:\n",
    "            add = 7\n",
    "        else:\n",
    "            add = 1\n",
    "\n",
    "        if move == \"Lord Licorice\":\n",
    "            current = 9\n",
    "        elif move == \"Candy Cane\":\n",
    "            current = 18\n",
    "        elif move == \"Gumdrop Mountain\":\n",
    "            current = 43\n",
    "        elif move == \"Grandma Nut\":\n",
    "            current = 75\n",
    "        elif move == \"Princess Lolly\":\n",
    "            current = 96\n",
    "        elif move == \"Queen Frostine\":\n",
    "            current = 104\n",
    "        else:\n",
    "\n",
    "            for spaces in range(current + add, 140):\n",
    "\n",
    "                if move == board[spaces][1]:\n",
    "                    current = [spaces][0]\n",
    "                    break\n",
    "                else:\n",
    "                    continue\n",
    "\n",
    "        moveList.append(move)\n",
    "\n",
    "    return len(moveList)"
   ]
  },
  {
   "cell_type": "code",
   "execution_count": 22,
   "metadata": {},
   "outputs": [
    {
     "name": "stdout",
     "output_type": "stream",
     "text": [
      "The average number of turns taken to complete a game by myself is: 37\n",
      "The longest number of turns taken to complete a game by myself is: 240\n",
      "The shortest number of turns taken to complete a game by myself is: 6\n",
      "The average length of the game if four people are playing together is: 925\n"
     ]
    },
    {
     "name": "stderr",
     "output_type": "stream",
     "text": [
      "C:\\Users\\aniru\\Anaconda3\\lib\\site-packages\\ipykernel_launcher.py:15: MatplotlibDeprecationWarning: \n",
      "The 'normed' kwarg was deprecated in Matplotlib 2.1 and will be removed in 3.1. Use 'density' instead.\n",
      "  from ipykernel import kernelapp as app\n"
     ]
    },
    {
     "data": {
      "image/png": "[encoded data removed]",
      "text/plain": [
       "<Figure size 432x288 with 1 Axes>"
      ]
     },
     "metadata": {},
     "output_type": "display_data"
    }
   ],
   "source": [
    "simulation = []\n",
    "def runSimulation():\n",
    "    \n",
    "\n",
    "    for trial in range(1000):\n",
    "        count = playGame()\n",
    "        simulation.append(count)\n",
    "    avg=simulation\n",
    "    average=round(sum(avg)/len(avg))\n",
    "    print(\"The average number of turns taken to complete a game by myself is: {}\".format(average))\n",
    "    print(\"The longest number of turns taken to complete a game by myself is: {}\".format(max(avg)))\n",
    "    print(\"The shortest number of turns taken to complete a game by myself is: {}\".format(min(avg)))\n",
    "    four_people=average*25\n",
    "    print(\"The average length of the game if four people are playing together is: {}\".format(four_people))\n",
    "    plt.hist(simulation, bins = range(100), normed = True)\n",
    "    plt.xlabel(\"Turns to Win\")\n",
    "    plt.ylabel('Fraction of Games')\n",
    "    plt.title('Lengths of Candyland Games')\n",
    "    \n",
    "    \n",
    "runSimulation()\n"
   ]
  }
 ],
 "metadata": {
  "kernelspec": {
   "display_name": "Python 3",
   "language": "python",
   "name": "python3"
  },
  "language_info": {
   "codemirror_mode": {
    "name": "ipython",
    "version": 3
   },
   "file_extension": ".py",
   "mimetype": "text/x-python",
   "name": "python",
   "nbconvert_exporter": "python",
   "pygments_lexer": "ipython3",
   "version": "3.6.8"
  }
 },
 "nbformat": 4,
 "nbformat_minor": 2
}
